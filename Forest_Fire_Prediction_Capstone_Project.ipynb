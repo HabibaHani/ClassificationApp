{
  "nbformat": 4,
  "nbformat_minor": 0,
  "metadata": {
    "colab": {
      "name": "Forest Fire Prediction Capstone Project.ipynb",
      "provenance": [],
      "collapsed_sections": [],
      "toc_visible": true,
      "include_colab_link": true
    },
    "kernelspec": {
      "display_name": "Python 3",
      "name": "python3"
    }
  },
  "cells": [
    {
      "cell_type": "markdown",
      "metadata": {
        "id": "view-in-github",
        "colab_type": "text"
      },
      "source": [
        "<a href=\"https://colab.research.google.com/github/HabibaHani/ClassificationApp/blob/main/Forest_Fire_Prediction_Capstone_Project.ipynb\" target=\"_parent\"><img src=\"https://colab.research.google.com/assets/colab-badge.svg\" alt=\"Open In Colab\"/></a>"
      ]
    },
    {
      "cell_type": "markdown",
      "metadata": {
        "id": "a5fNrjPcdtrs"
      },
      "source": [
        "# Forest Fire Prediction with Artificial Neural Network"
      ]
    },
    {
      "cell_type": "markdown",
      "metadata": {
        "id": "JPjzkYCXdkCZ"
      },
      "source": [
        "classification is used to predict a label and regression is used to predict a quantity. This simply means that a classification problem generally predicts a discrete label and outputs a prediction probability while regression will predict a continuous quantity and provide a value."
      ]
    },
    {
      "cell_type": "code",
      "metadata": {
        "id": "iedmHoj0RNMQ"
      },
      "source": [
        "# Import libraries necessary for this project\r\n",
        "import numpy as np\r\n",
        "import pandas as pd\r\n",
        "from time import time\r\n",
        "import matplotlib.pyplot as plt\r\n",
        "%matplotlib inline\r\n",
        "\r\n",
        "from sklearn.model_selection import train_test_split\r\n",
        "from sklearn.preprocessing import MinMaxScaler\r\n",
        "\r\n",
        "from sklearn.tree import DecisionTreeClassifier\r\n",
        "from sklearn.linear_model import LogisticRegression\r\n",
        "from sklearn.svm import SVC\r\n",
        "\r\n",
        "from sklearn.metrics import accuracy_score, recall_score, precision_score, f1_score, classification_report\r\n",
        "#from scikitplot.metrics import plot_confusion_matrix\r\n",
        "\r\n",
        "from sklearn.model_selection import GridSearchCV\r\n",
        "from sklearn.metrics import make_scorer\r\n",
        "\r\n",
        "from sklearn.base import clone\r\n",
        "\r\n",
        "from sklearn.ensemble import RandomForestClassifier\r\n",
        "from sklearn.ensemble import BaggingClassifier\r\n",
        "from sklearn.ensemble import AdaBoostClassifier\r\n",
        "from sklearn.ensemble import VotingClassifier"
      ],
      "execution_count": 1,
      "outputs": []
    },
    {
      "cell_type": "code",
      "metadata": {
        "colab": {
          "base_uri": "https://localhost:8080/",
          "height": 204
        },
        "id": "m56koRNsR6Fg",
        "outputId": "75d7a040-26ed-4eeb-dc67-b6650c3cede7"
      },
      "source": [
        "data = pd.read_csv ('/content/forestfires.csv')\r\n",
        "data.head()"
      ],
      "execution_count": 2,
      "outputs": [
        {
          "output_type": "execute_result",
          "data": {
            "text/html": [
              "<div>\n",
              "<style scoped>\n",
              "    .dataframe tbody tr th:only-of-type {\n",
              "        vertical-align: middle;\n",
              "    }\n",
              "\n",
              "    .dataframe tbody tr th {\n",
              "        vertical-align: top;\n",
              "    }\n",
              "\n",
              "    .dataframe thead th {\n",
              "        text-align: right;\n",
              "    }\n",
              "</style>\n",
              "<table border=\"1\" class=\"dataframe\">\n",
              "  <thead>\n",
              "    <tr style=\"text-align: right;\">\n",
              "      <th></th>\n",
              "      <th>X</th>\n",
              "      <th>Y</th>\n",
              "      <th>month</th>\n",
              "      <th>day</th>\n",
              "      <th>FFMC</th>\n",
              "      <th>DMC</th>\n",
              "      <th>DC</th>\n",
              "      <th>ISI</th>\n",
              "      <th>temp</th>\n",
              "      <th>RH</th>\n",
              "      <th>wind</th>\n",
              "      <th>rain</th>\n",
              "      <th>area</th>\n",
              "    </tr>\n",
              "  </thead>\n",
              "  <tbody>\n",
              "    <tr>\n",
              "      <th>0</th>\n",
              "      <td>7</td>\n",
              "      <td>5</td>\n",
              "      <td>mar</td>\n",
              "      <td>fri</td>\n",
              "      <td>86.2</td>\n",
              "      <td>26.2</td>\n",
              "      <td>94.3</td>\n",
              "      <td>5.1</td>\n",
              "      <td>8.2</td>\n",
              "      <td>51</td>\n",
              "      <td>6.7</td>\n",
              "      <td>0.0</td>\n",
              "      <td>0.0</td>\n",
              "    </tr>\n",
              "    <tr>\n",
              "      <th>1</th>\n",
              "      <td>7</td>\n",
              "      <td>4</td>\n",
              "      <td>oct</td>\n",
              "      <td>tue</td>\n",
              "      <td>90.6</td>\n",
              "      <td>35.4</td>\n",
              "      <td>669.1</td>\n",
              "      <td>6.7</td>\n",
              "      <td>18.0</td>\n",
              "      <td>33</td>\n",
              "      <td>0.9</td>\n",
              "      <td>0.0</td>\n",
              "      <td>0.0</td>\n",
              "    </tr>\n",
              "    <tr>\n",
              "      <th>2</th>\n",
              "      <td>7</td>\n",
              "      <td>4</td>\n",
              "      <td>oct</td>\n",
              "      <td>sat</td>\n",
              "      <td>90.6</td>\n",
              "      <td>43.7</td>\n",
              "      <td>686.9</td>\n",
              "      <td>6.7</td>\n",
              "      <td>14.6</td>\n",
              "      <td>33</td>\n",
              "      <td>1.3</td>\n",
              "      <td>0.0</td>\n",
              "      <td>0.0</td>\n",
              "    </tr>\n",
              "    <tr>\n",
              "      <th>3</th>\n",
              "      <td>8</td>\n",
              "      <td>6</td>\n",
              "      <td>mar</td>\n",
              "      <td>fri</td>\n",
              "      <td>91.7</td>\n",
              "      <td>33.3</td>\n",
              "      <td>77.5</td>\n",
              "      <td>9.0</td>\n",
              "      <td>8.3</td>\n",
              "      <td>97</td>\n",
              "      <td>4.0</td>\n",
              "      <td>0.2</td>\n",
              "      <td>0.0</td>\n",
              "    </tr>\n",
              "    <tr>\n",
              "      <th>4</th>\n",
              "      <td>8</td>\n",
              "      <td>6</td>\n",
              "      <td>mar</td>\n",
              "      <td>sun</td>\n",
              "      <td>89.3</td>\n",
              "      <td>51.3</td>\n",
              "      <td>102.2</td>\n",
              "      <td>9.6</td>\n",
              "      <td>11.4</td>\n",
              "      <td>99</td>\n",
              "      <td>1.8</td>\n",
              "      <td>0.0</td>\n",
              "      <td>0.0</td>\n",
              "    </tr>\n",
              "  </tbody>\n",
              "</table>\n",
              "</div>"
            ],
            "text/plain": [
              "   X  Y month  day  FFMC   DMC     DC  ISI  temp  RH  wind  rain  area\n",
              "0  7  5   mar  fri  86.2  26.2   94.3  5.1   8.2  51   6.7   0.0   0.0\n",
              "1  7  4   oct  tue  90.6  35.4  669.1  6.7  18.0  33   0.9   0.0   0.0\n",
              "2  7  4   oct  sat  90.6  43.7  686.9  6.7  14.6  33   1.3   0.0   0.0\n",
              "3  8  6   mar  fri  91.7  33.3   77.5  9.0   8.3  97   4.0   0.2   0.0\n",
              "4  8  6   mar  sun  89.3  51.3  102.2  9.6  11.4  99   1.8   0.0   0.0"
            ]
          },
          "metadata": {
            "tags": []
          },
          "execution_count": 2
        }
      ]
    },
    {
      "cell_type": "code",
      "metadata": {
        "colab": {
          "base_uri": "https://localhost:8080/",
          "height": 1000
        },
        "id": "9jYm4oSSSD_4",
        "outputId": "a8c9783a-e610-46a3-9e58-444bd4ec8156"
      },
      "source": [
        "num_feature = data.columns[data.dtypes!='object']\r\n",
        "\r\n",
        "def my_plot(feature):\r\n",
        "    plt.hist(data[feature])\r\n",
        "    plt.title(feature)\r\n",
        "    plt.show()\r\n",
        "        \r\n",
        "for i in num_feature:\r\n",
        "    my_plot(i)"
      ],
      "execution_count": 3,
      "outputs": [
        {
          "output_type": "display_data",
          "data": {
            "image/png": "[encoded data removed]",
            "text/plain": [
              "<Figure size 432x288 with 1 Axes>"
            ]
          },
          "metadata": {
            "tags": [],
            "needs_background": "light"
          }
        },
        {
          "output_type": "display_data",
          "data": {
            "image/png": "[encoded data removed]",
            "text/plain": [
              "<Figure size 432x288 with 1 Axes>"
            ]
          },
          "metadata": {
            "tags": [],
            "needs_background": "light"
          }
        },
        {
          "output_type": "display_data",
          "data": {
            "image/png": "[encoded data removed]",
            "text/plain": [
              "<Figure size 432x288 with 1 Axes>"
            ]
          },
          "metadata": {
            "tags": [],
            "needs_background": "light"
          }
        },
        {
          "output_type": "display_data",
          "data": {
            "image/png": "[encoded data removed]",
            "text/plain": [
              "<Figure size 432x288 with 1 Axes>"
            ]
          },
          "metadata": {
            "tags": [],
            "needs_background": "light"
          }
        },
        {
          "output_type": "display_data",
          "data": {
            "image/png": "[encoded data removed]",
            "text/plain": [
              "<Figure size 432x288 with 1 Axes>"
            ]
          },
          "metadata": {
            "tags": [],
            "needs_background": "light"
          }
        },
        {
          "output_type": "display_data",
          "data": {
            "image/png": "[encoded data removed]",
            "text/plain": [
              "<Figure size 432x288 with 1 Axes>"
            ]
          },
          "metadata": {
            "tags": [],
            "needs_background": "light"
          }
        },
        {
          "output_type": "display_data",
          "data": {
            "image/png": "[encoded data removed]",
            "text/plain": [
              "<Figure size 432x288 with 1 Axes>"
            ]
          },
          "metadata": {
            "tags": [],
            "needs_background": "light"
          }
        },
        {
          "output_type": "display_data",
          "data": {
            "image/png": "[encoded data removed]",
            "text/plain": [
              "<Figure size 432x288 with 1 Axes>"
            ]
          },
          "metadata": {
            "tags": [],
            "needs_background": "light"
          }
        },
        {
          "output_type": "display_data",
          "data": {
            "image/png": "[encoded data removed]",
            "text/plain": [
              "<Figure size 432x288 with 1 Axes>"
            ]
          },
          "metadata": {
            "tags": [],
            "needs_background": "light"
          }
        },
        {
          "output_type": "display_data",
          "data": {
            "image/png": "[encoded data removed]",
            "text/plain": [
              "<Figure size 432x288 with 1 Axes>"
            ]
          },
          "metadata": {
            "tags": [],
            "needs_background": "light"
          }
        },
        {
          "output_type": "display_data",
          "data": {
            "image/png": "[encoded data removed]",
            "text/plain": [
              "<Figure size 432x288 with 1 Axes>"
            ]
          },
          "metadata": {
            "tags": [],
            "needs_background": "light"
          }
        }
      ]
    },
    {
      "cell_type": "code",
      "metadata": {
        "colab": {
          "base_uri": "https://localhost:8080/",
          "height": 198
        },
        "id": "INxu33sOSUUa",
        "outputId": "145d51d2-c5f1-4c9f-9e7a-7ddb4f6af6d1"
      },
      "source": [
        "from sklearn.model_selection import train_test_split\r\n",
        "from sklearn.linear_model import LinearRegression \r\n",
        "from sklearn.tree import DecisionTreeRegressor\r\n",
        "from sklearn.ensemble import RandomForestRegressor\r\n",
        "from sklearn.metrics import mean_squared_log_error\r\n",
        "from sklearn.metrics import mean_squared_error\r\n",
        "X_train, X_test, y_train, y_test = train_test_split(X, y, test_size=0.2, random_state=0)"
      ],
      "execution_count": 4,
      "outputs": [
        {
          "output_type": "error",
          "ename": "NameError",
          "evalue": "ignored",
          "traceback": [
            "\u001b[0;31m---------------------------------------------------------------------------\u001b[0m",
            "\u001b[0;31mNameError\u001b[0m                                 Traceback (most recent call last)",
            "\u001b[0;32m<ipython-input-4-eb176b886f01>\u001b[0m in \u001b[0;36m<module>\u001b[0;34m()\u001b[0m\n\u001b[1;32m      5\u001b[0m \u001b[0;32mfrom\u001b[0m \u001b[0msklearn\u001b[0m\u001b[0;34m.\u001b[0m\u001b[0mmetrics\u001b[0m \u001b[0;32mimport\u001b[0m \u001b[0mmean_squared_log_error\u001b[0m\u001b[0;34m\u001b[0m\u001b[0;34m\u001b[0m\u001b[0m\n\u001b[1;32m      6\u001b[0m \u001b[0;32mfrom\u001b[0m \u001b[0msklearn\u001b[0m\u001b[0;34m.\u001b[0m\u001b[0mmetrics\u001b[0m \u001b[0;32mimport\u001b[0m \u001b[0mmean_squared_error\u001b[0m\u001b[0;34m\u001b[0m\u001b[0;34m\u001b[0m\u001b[0m\n\u001b[0;32m----> 7\u001b[0;31m \u001b[0mX_train\u001b[0m\u001b[0;34m,\u001b[0m \u001b[0mX_test\u001b[0m\u001b[0;34m,\u001b[0m \u001b[0my_train\u001b[0m\u001b[0;34m,\u001b[0m \u001b[0my_test\u001b[0m \u001b[0;34m=\u001b[0m \u001b[0mtrain_test_split\u001b[0m\u001b[0;34m(\u001b[0m\u001b[0mX\u001b[0m\u001b[0;34m,\u001b[0m \u001b[0my\u001b[0m\u001b[0;34m,\u001b[0m \u001b[0mtest_size\u001b[0m\u001b[0;34m=\u001b[0m\u001b[0;36m0.2\u001b[0m\u001b[0;34m,\u001b[0m \u001b[0mrandom_state\u001b[0m\u001b[0;34m=\u001b[0m\u001b[0;36m0\u001b[0m\u001b[0;34m)\u001b[0m\u001b[0;34m\u001b[0m\u001b[0;34m\u001b[0m\u001b[0m\n\u001b[0m",
            "\u001b[0;31mNameError\u001b[0m: name 'X' is not defined"
          ]
        }
      ]
    },
    {
      "cell_type": "code",
      "metadata": {
        "colab": {
          "base_uri": "https://localhost:8080/",
          "height": 310
        },
        "id": "CyxXtyTIoVUQ",
        "outputId": "6083d01e-eaa4-445d-8719-efafd9761a4b"
      },
      "source": [
        "pip install scikit-learn==0.20.4"
      ],
      "execution_count": 5,
      "outputs": [
        {
          "output_type": "stream",
          "text": [
            "Collecting scikit-learn==0.20.4\n",
            "\u001b[?25l  Downloading https://files.pythonhosted.org/packages/96/5b/5da31a6572dc6b7b2846a7cfcbe2e060a0e6af0e1059a6516965e40371b7/scikit_learn-0.20.4-cp36-cp36m-manylinux1_x86_64.whl (5.4MB)\n",
            "\u001b[K     |████████████████████████████████| 5.4MB 3.8MB/s \n",
            "\u001b[?25hRequirement already satisfied: numpy>=1.8.2 in /usr/local/lib/python3.6/dist-packages (from scikit-learn==0.20.4) (1.19.5)\n",
            "Requirement already satisfied: scipy>=0.13.3 in /usr/local/lib/python3.6/dist-packages (from scikit-learn==0.20.4) (1.4.1)\n",
            "\u001b[31mERROR: umap-learn 0.5.0 has requirement scikit-learn>=0.22, but you'll have scikit-learn 0.20.4 which is incompatible.\u001b[0m\n",
            "Installing collected packages: scikit-learn\n",
            "  Found existing installation: scikit-learn 0.22.2.post1\n",
            "    Uninstalling scikit-learn-0.22.2.post1:\n",
            "      Successfully uninstalled scikit-learn-0.22.2.post1\n",
            "Successfully installed scikit-learn-0.20.4\n"
          ],
          "name": "stdout"
        },
        {
          "output_type": "display_data",
          "data": {
            "application/vnd.colab-display-data+json": {
              "pip_warning": {
                "packages": [
                  "sklearn"
                ]
              }
            }
          },
          "metadata": {
            "tags": []
          }
        }
      ]
    },
    {
      "cell_type": "markdown",
      "metadata": {
        "id": "iz-BADNrfURZ"
      },
      "source": [
        "## Data Cleaning and Preprocessing"
      ]
    },
    {
      "cell_type": "code",
      "metadata": {
        "id": "7MRPyQKmfTmX"
      },
      "source": [
        "# Importing the libraries\r\n",
        "import numpy as np\r\n",
        "import pandas as pd\r\n",
        "\r\n",
        "# Encoding \r\n",
        "from sklearn.preprocessing import LabelEncoder, OneHotEncoder"
      ],
      "execution_count": 6,
      "outputs": []
    },
    {
      "cell_type": "code",
      "metadata": {
        "id": "VCrz2JTufRUM"
      },
      "source": [
        "# Importing the dataset\r\n",
        "dataset = pd.read_csv ('/content/forestfires.csv')\r\n",
        "#Getting Independent and Dependent Features\r\n",
        "X = dataset.iloc[:, 0:12].values # independent\r\n",
        "y = dataset.iloc[:, 12].values # dependent variable"
      ],
      "execution_count": 8,
      "outputs": []
    },
    {
      "cell_type": "code",
      "metadata": {
        "colab": {
          "base_uri": "https://localhost:8080/"
        },
        "id": "U2wasOfRfucI",
        "outputId": "1ff4f77e-0e66-4021-f5d3-da6e993e3477"
      },
      "source": [
        "X"
      ],
      "execution_count": 9,
      "outputs": [
        {
          "output_type": "execute_result",
          "data": {
            "text/plain": [
              "array([[7, 5, 'mar', ..., 51, 6.7, 0.0],\n",
              "       [7, 4, 'oct', ..., 33, 0.9, 0.0],\n",
              "       [7, 4, 'oct', ..., 33, 1.3, 0.0],\n",
              "       ...,\n",
              "       [7, 4, 'aug', ..., 70, 6.7, 0.0],\n",
              "       [1, 4, 'aug', ..., 42, 4.0, 0.0],\n",
              "       [6, 3, 'nov', ..., 31, 4.5, 0.0]], dtype=object)"
            ]
          },
          "metadata": {
            "tags": []
          },
          "execution_count": 9
        }
      ]
    },
    {
      "cell_type": "code",
      "metadata": {
        "colab": {
          "base_uri": "https://localhost:8080/"
        },
        "id": "11IW4s3Af0IC",
        "outputId": "3ac033cb-c105-47c9-9091-7819d698a962"
      },
      "source": [
        "y"
      ],
      "execution_count": 10,
      "outputs": [
        {
          "output_type": "execute_result",
          "data": {
            "text/plain": [
              "array([0.00000e+00, 0.00000e+00, 0.00000e+00, 0.00000e+00, 0.00000e+00,\n",
              "       0.00000e+00, 0.00000e+00, 0.00000e+00, 0.00000e+00, 0.00000e+00,\n",
              "       0.00000e+00, 0.00000e+00, 0.00000e+00, 0.00000e+00, 0.00000e+00,\n",
              "       0.00000e+00, 0.00000e+00, 0.00000e+00, 0.00000e+00, 0.00000e+00,\n",
              "       0.00000e+00, 0.00000e+00, 0.00000e+00, 0.00000e+00, 0.00000e+00,\n",
              "       0.00000e+00, 0.00000e+00, 0.00000e+00, 0.00000e+00, 0.00000e+00,\n",
              "       0.00000e+00, 0.00000e+00, 0.00000e+00, 0.00000e+00, 0.00000e+00,\n",
              "       0.00000e+00, 0.00000e+00, 0.00000e+00, 0.00000e+00, 0.00000e+00,\n",
              "       0.00000e+00, 0.00000e+00, 0.00000e+00, 0.00000e+00, 0.00000e+00,\n",
              "       0.00000e+00, 0.00000e+00, 0.00000e+00, 0.00000e+00, 0.00000e+00,\n",
              "       0.00000e+00, 0.00000e+00, 0.00000e+00, 0.00000e+00, 0.00000e+00,\n",
              "       0.00000e+00, 0.00000e+00, 0.00000e+00, 0.00000e+00, 0.00000e+00,\n",
              "       0.00000e+00, 0.00000e+00, 0.00000e+00, 0.00000e+00, 0.00000e+00,\n",
              "       0.00000e+00, 0.00000e+00, 0.00000e+00, 0.00000e+00, 0.00000e+00,\n",
              "       0.00000e+00, 0.00000e+00, 0.00000e+00, 0.00000e+00, 0.00000e+00,\n",
              "       0.00000e+00, 0.00000e+00, 0.00000e+00, 0.00000e+00, 0.00000e+00,\n",
              "       0.00000e+00, 0.00000e+00, 0.00000e+00, 0.00000e+00, 0.00000e+00,\n",
              "       0.00000e+00, 0.00000e+00, 0.00000e+00, 0.00000e+00, 0.00000e+00,\n",
              "       0.00000e+00, 0.00000e+00, 0.00000e+00, 0.00000e+00, 0.00000e+00,\n",
              "       0.00000e+00, 0.00000e+00, 0.00000e+00, 0.00000e+00, 0.00000e+00,\n",
              "       0.00000e+00, 0.00000e+00, 0.00000e+00, 0.00000e+00, 0.00000e+00,\n",
              "       0.00000e+00, 0.00000e+00, 0.00000e+00, 0.00000e+00, 0.00000e+00,\n",
              "       0.00000e+00, 0.00000e+00, 0.00000e+00, 0.00000e+00, 0.00000e+00,\n",
              "       0.00000e+00, 0.00000e+00, 0.00000e+00, 0.00000e+00, 0.00000e+00,\n",
              "       0.00000e+00, 0.00000e+00, 0.00000e+00, 0.00000e+00, 0.00000e+00,\n",
              "       0.00000e+00, 0.00000e+00, 0.00000e+00, 0.00000e+00, 0.00000e+00,\n",
              "       0.00000e+00, 0.00000e+00, 0.00000e+00, 0.00000e+00, 0.00000e+00,\n",
              "       0.00000e+00, 0.00000e+00, 0.00000e+00, 3.60000e-01, 4.30000e-01,\n",
              "       4.70000e-01, 5.50000e-01, 6.10000e-01, 7.10000e-01, 7.70000e-01,\n",
              "       9.00000e-01, 9.50000e-01, 9.60000e-01, 1.07000e+00, 1.12000e+00,\n",
              "       1.19000e+00, 1.36000e+00, 1.43000e+00, 1.46000e+00, 1.46000e+00,\n",
              "       1.56000e+00, 1.61000e+00, 1.63000e+00, 1.64000e+00, 1.69000e+00,\n",
              "       1.75000e+00, 1.90000e+00, 1.94000e+00, 1.95000e+00, 2.01000e+00,\n",
              "       2.14000e+00, 2.29000e+00, 2.51000e+00, 2.53000e+00, 2.55000e+00,\n",
              "       2.57000e+00, 2.69000e+00, 2.74000e+00, 3.07000e+00, 3.50000e+00,\n",
              "       4.53000e+00, 4.61000e+00, 4.69000e+00, 4.88000e+00, 5.23000e+00,\n",
              "       5.33000e+00, 5.44000e+00, 6.38000e+00, 6.83000e+00, 6.96000e+00,\n",
              "       7.04000e+00, 7.19000e+00, 7.30000e+00, 7.40000e+00, 8.24000e+00,\n",
              "       8.31000e+00, 8.68000e+00, 8.71000e+00, 9.41000e+00, 1.00100e+01,\n",
              "       1.00200e+01, 1.09300e+01, 1.10600e+01, 1.12400e+01, 1.13200e+01,\n",
              "       1.15300e+01, 1.21000e+01, 1.30500e+01, 1.37000e+01, 1.39900e+01,\n",
              "       1.45700e+01, 1.54500e+01, 1.72000e+01, 1.92300e+01, 2.34100e+01,\n",
              "       2.42300e+01, 2.60000e+01, 2.61300e+01, 2.73500e+01, 2.86600e+01,\n",
              "       2.86600e+01, 2.94800e+01, 3.03200e+01, 3.17200e+01, 3.18600e+01,\n",
              "       3.20700e+01, 3.58800e+01, 3.68500e+01, 3.70200e+01, 3.77100e+01,\n",
              "       4.85500e+01, 4.93700e+01, 5.83000e+01, 6.41000e+01, 7.13000e+01,\n",
              "       8.84900e+01, 9.51800e+01, 1.03390e+02, 1.05660e+02, 1.54880e+02,\n",
              "       1.96480e+02, 2.00940e+02, 2.12880e+02, 1.09084e+03, 0.00000e+00,\n",
              "       0.00000e+00, 0.00000e+00, 1.01300e+01, 0.00000e+00, 2.87000e+00,\n",
              "       7.60000e-01, 9.00000e-02, 7.50000e-01, 0.00000e+00, 2.47000e+00,\n",
              "       6.80000e-01, 2.40000e-01, 2.10000e-01, 1.52000e+00, 1.03400e+01,\n",
              "       0.00000e+00, 8.02000e+00, 6.80000e-01, 0.00000e+00, 1.38000e+00,\n",
              "       8.85000e+00, 3.30000e+00, 4.25000e+00, 1.56000e+00, 6.54000e+00,\n",
              "       7.90000e-01, 1.70000e-01, 0.00000e+00, 0.00000e+00, 4.40000e+00,\n",
              "       5.20000e-01, 9.27000e+00, 3.09000e+00, 8.98000e+00, 1.11900e+01,\n",
              "       5.38000e+00, 1.78500e+01, 1.07300e+01, 2.20300e+01, 9.77000e+00,\n",
              "       9.27000e+00, 2.47700e+01, 0.00000e+00, 1.10000e+00, 2.42400e+01,\n",
              "       0.00000e+00, 0.00000e+00, 0.00000e+00, 0.00000e+00, 0.00000e+00,\n",
              "       0.00000e+00, 8.00000e+00, 2.64000e+00, 8.64500e+01, 6.57000e+00,\n",
              "       0.00000e+00, 9.00000e-01, 0.00000e+00, 0.00000e+00, 0.00000e+00,\n",
              "       0.00000e+00, 3.52000e+00, 0.00000e+00, 0.00000e+00, 0.00000e+00,\n",
              "       0.00000e+00, 4.10000e-01, 5.18000e+00, 0.00000e+00, 0.00000e+00,\n",
              "       0.00000e+00, 1.42900e+01, 0.00000e+00, 0.00000e+00, 1.58000e+00,\n",
              "       0.00000e+00, 0.00000e+00, 3.78000e+00, 0.00000e+00, 4.41000e+00,\n",
              "       3.43600e+01, 7.21000e+00, 1.01000e+00, 2.18000e+00, 4.42000e+00,\n",
              "       0.00000e+00, 0.00000e+00, 0.00000e+00, 0.00000e+00, 3.33000e+00,\n",
              "       6.58000e+00, 1.56400e+01, 1.12200e+01, 2.13000e+00, 0.00000e+00,\n",
              "       0.00000e+00, 0.00000e+00, 5.60400e+01, 7.48000e+00, 1.47000e+00,\n",
              "       3.93000e+00, 0.00000e+00, 0.00000e+00, 2.18000e+00, 6.10000e+00,\n",
              "       5.83000e+00, 2.81900e+01, 0.00000e+00, 0.00000e+00, 1.64000e+00,\n",
              "       3.71000e+00, 7.31000e+00, 2.03000e+00, 1.72000e+00, 5.97000e+00,\n",
              "       1.30600e+01, 1.26000e+00, 0.00000e+00, 0.00000e+00, 8.12000e+00,\n",
              "       1.09000e+00, 3.94000e+00, 5.20000e-01, 2.93000e+00, 5.65000e+00,\n",
              "       2.00300e+01, 1.75000e+00, 0.00000e+00, 1.26400e+01, 0.00000e+00,\n",
              "       1.10600e+01, 0.00000e+00, 0.00000e+00, 0.00000e+00, 1.83000e+01,\n",
              "       3.93500e+01, 0.00000e+00, 1.74630e+02, 0.00000e+00, 0.00000e+00,\n",
              "       7.73000e+00, 1.63300e+01, 5.86000e+00, 4.28700e+01, 1.21800e+01,\n",
              "       1.60000e+01, 2.45900e+01, 0.00000e+00, 2.87400e+01, 0.00000e+00,\n",
              "       9.96000e+00, 3.01800e+01, 7.07600e+01, 0.00000e+00, 0.00000e+00,\n",
              "       5.17800e+01, 3.64000e+00, 3.63000e+00, 0.00000e+00, 0.00000e+00,\n",
              "       8.16000e+00, 4.95000e+00, 0.00000e+00, 0.00000e+00, 6.04000e+00,\n",
              "       0.00000e+00, 3.95000e+00, 0.00000e+00, 7.80000e+00, 0.00000e+00,\n",
              "       0.00000e+00, 4.62000e+00, 1.63000e+00, 0.00000e+00, 0.00000e+00,\n",
              "       7.46280e+02, 7.02000e+00, 0.00000e+00, 2.44000e+00, 3.05000e+00,\n",
              "       1.85760e+02, 0.00000e+00, 6.30000e+00, 7.20000e-01, 4.96000e+00,\n",
              "       0.00000e+00, 0.00000e+00, 2.35000e+00, 0.00000e+00, 3.20000e+00,\n",
              "       0.00000e+00, 6.36000e+00, 0.00000e+00, 1.53400e+01, 0.00000e+00,\n",
              "       0.00000e+00, 5.40000e-01, 0.00000e+00, 6.43000e+00, 3.30000e-01,\n",
              "       0.00000e+00, 1.23000e+00, 3.35000e+00, 0.00000e+00, 9.96000e+00,\n",
              "       0.00000e+00, 0.00000e+00, 0.00000e+00, 0.00000e+00, 0.00000e+00,\n",
              "       6.43000e+00, 9.71000e+00, 0.00000e+00, 0.00000e+00, 0.00000e+00,\n",
              "       0.00000e+00, 0.00000e+00, 8.27500e+01, 3.32000e+00, 1.94000e+00,\n",
              "       0.00000e+00, 0.00000e+00, 3.71000e+00, 5.39000e+00, 2.14000e+00,\n",
              "       6.84000e+00, 3.18000e+00, 5.55000e+00, 6.61000e+00, 6.11300e+01,\n",
              "       0.00000e+00, 3.84800e+01, 1.94000e+00, 7.03200e+01, 1.00800e+01,\n",
              "       3.19000e+00, 1.76000e+00, 7.36000e+00, 2.21000e+00, 2.78530e+02,\n",
              "       2.75000e+00, 0.00000e+00, 1.29000e+00, 0.00000e+00, 2.64300e+01,\n",
              "       2.07000e+00, 2.00000e+00, 1.64000e+01, 4.67000e+01, 0.00000e+00,\n",
              "       0.00000e+00, 0.00000e+00, 0.00000e+00, 4.33200e+01, 8.59000e+00,\n",
              "       0.00000e+00, 2.77000e+00, 1.46800e+01, 4.05400e+01, 1.08200e+01,\n",
              "       0.00000e+00, 0.00000e+00, 0.00000e+00, 1.95000e+00, 4.95900e+01,\n",
              "       5.80000e+00, 0.00000e+00, 0.00000e+00, 0.00000e+00, 2.17000e+00,\n",
              "       4.30000e-01, 0.00000e+00, 6.44000e+00, 5.42900e+01, 1.11600e+01,\n",
              "       0.00000e+00, 0.00000e+00])"
            ]
          },
          "metadata": {
            "tags": []
          },
          "execution_count": 10
        }
      ]
    },
    {
      "cell_type": "markdown",
      "metadata": {
        "id": "Mt4lYsUMguJM"
      },
      "source": [
        "### Classification\r\n"
      ]
    },
    {
      "cell_type": "code",
      "metadata": {
        "id": "qyRESbqzgk-W"
      },
      "source": [
        "#Convert to Acres then Classify Size\r\n",
        "for i in range(0, len(y)):\r\n",
        "    y[i] = (y[i]*2.47)\r\n",
        "    if y[i] < 1.0:\r\n",
        "        y[i] = 1\r\n",
        "    elif y[i] < 10.0:\r\n",
        "        y[i] = 2\r\n",
        "    elif y[i] < 100.0:\r\n",
        "        y[i] = 3\r\n",
        "    elif y[i] < 300.0:\r\n",
        "        y[i] = 4\r\n",
        "    elif y[i] < 1000.0:\r\n",
        "        y[i] = 5\r\n",
        "    elif y[i] < 5000.0:\r\n",
        "        y[i] = 6\r\n",
        "    else:\r\n",
        "        y[i] = 7"
      ],
      "execution_count": null,
      "outputs": []
    },
    {
      "cell_type": "code",
      "metadata": {
        "id": "xWOGj7OPhJ5J"
      },
      "source": [
        "# Encoding categorical data for independent variables \r\n",
        "\r\n",
        "#For month\r\n",
        "labelencoder_X_1 = LabelEncoder()\r\n",
        "X[:, 2] = labelencoder_X_1.fit_transform(X[:, 2])\r\n",
        "\r\n",
        "#For weekday\r\n",
        "labelencoder_X_2 = LabelEncoder()\r\n",
        "X[:, 3] = labelencoder_X_2.fit_transform(X[:, 3]) "
      ],
      "execution_count": null,
      "outputs": []
    },
    {
      "cell_type": "code",
      "metadata": {
        "id": "CihEkdRzhsDd"
      },
      "source": [
        "X"
      ],
      "execution_count": null,
      "outputs": []
    },
    {
      "cell_type": "code",
      "metadata": {
        "id": "GbPCPAeXlWJq"
      },
      "source": [
        "from sklearn.compose import ColumnTransformer"
      ],
      "execution_count": null,
      "outputs": []
    },
    {
      "cell_type": "code",
      "metadata": {
        "id": "GPIRL1UilRoH"
      },
      "source": [
        "transformer = ColumnTransformer(\r\n",
        "    transformers=[\r\n",
        "        (\"month\",        # Just a name\r\n",
        "         OneHotEncoder(), # The transformer class\r\n",
        "         [2]            # The column(s) to be applied on.\r\n",
        "         )\r\n",
        "    ], remainder='passthrough'\r\n",
        ")\r\n",
        "X = transformer.fit_transform(X[:, 1:])"
      ],
      "execution_count": null,
      "outputs": []
    },
    {
      "cell_type": "code",
      "metadata": {
        "id": "YU8rsXohmY6M"
      },
      "source": [
        "X[1]"
      ],
      "execution_count": null,
      "outputs": []
    },
    {
      "cell_type": "code",
      "metadata": {
        "id": "d6Aju_XymjWu"
      },
      "source": [
        ""
      ],
      "execution_count": null,
      "outputs": []
    },
    {
      "cell_type": "code",
      "metadata": {
        "id": "bmMDW5GChp3d"
      },
      "source": [
        "#dummy variable for month\r\n",
        "\r\n",
        "onehotencoder = OneHotEncoder(categorical_features = [2])\r\n",
        "X = onehotencoder.fit_transform(X).toarray()\r\n",
        "X = X[:, 1:] #avoid dummy variable trap \r\n",
        "\r\n",
        "#dummy variable for week\r\n",
        "onehotencoder = OneHotEncoder(categorical_features = [13])\r\n",
        "X = onehotencoder.fit_transform(X).toarray()\r\n",
        "X = X[:, 1:] #avoid dummy variable trap"
      ],
      "execution_count": null,
      "outputs": []
    },
    {
      "cell_type": "code",
      "metadata": {
        "id": "pf4k1w1JooKt"
      },
      "source": [
        "X[1]"
      ],
      "execution_count": null,
      "outputs": []
    },
    {
      "cell_type": "code",
      "metadata": {
        "id": "s_-a-AdAo9us"
      },
      "source": [
        "# Encoding For Classification\r\n",
        "from keras.utils import np_utils\r\n",
        "y = np_utils.to_categorical(y)\r\n"
      ],
      "execution_count": null,
      "outputs": []
    },
    {
      "cell_type": "code",
      "metadata": {
        "id": "oH4e7i6bpCRy"
      },
      "source": [
        "# Splitting the dataset into the Training set and Test set\r\n",
        "from sklearn.model_selection import train_test_split\r\n",
        "X_train, X_test, y_train, y_test = train_test_split(X, y, test_size = 0.2)\r\n"
      ],
      "execution_count": null,
      "outputs": []
    },
    {
      "cell_type": "code",
      "metadata": {
        "id": "GZ4L4G1rs6AS"
      },
      "source": [
        "# Feature Scaling to optimize \r\n",
        "from sklearn.preprocessing import StandardScaler\r\n",
        "sc = StandardScaler()\r\n",
        "X_train = sc.fit_transform(X_train)\r\n",
        "X_test = sc.transform(X_test)"
      ],
      "execution_count": null,
      "outputs": []
    },
    {
      "cell_type": "code",
      "metadata": {
        "id": "sThrc2AZpa7A"
      },
      "source": [
        "'''\r\n",
        "    Creating the ANN\r\n",
        "'''\r\n",
        "# Importing the Keras libraries and packages to use Tensor Flow Backend\r\n",
        "import keras\r\n",
        "from keras.models import Sequential #For Initializing ANN\r\n",
        "from keras.layers import Dense #For Layers of ANN\r\n",
        "# Initializing the ANN with sequence of layers (Could use a Graph)\r\n",
        "#Classifier Model\r\n",
        "classifier = Sequential()\r\n",
        "# Adding the input layer and the first hidden layer\r\n",
        "classifier.add(Dense(units = 17, kernel_initializer = 'uniform', activation = 'relu', input_dim = 27))\r\n",
        "# Adding the hidden layers\r\n",
        "classifier.add(Dense(units = 17, kernel_initializer = 'uniform', activation = 'relu'))\r\n",
        "classifier.add(Dense(units = 17, kernel_initializer = 'uniform', activation = 'relu'))\r\n",
        "# Adding the output layer\r\n",
        "# Probability for the outcome \r\n",
        "'''Classification'''\r\n",
        "classifier.add(Dense(units = 7, kernel_initializer = 'uniform', activation = 'softmax'))\r\n",
        "# Compiling the ANN\r\n",
        "'''Classification'''\r\n",
        "#Another Option: binary_crossentropy\r\n",
        "classifier.compile(optimizer = 'adam', loss = 'categorical_crossentropy', metrics = ['accuracy'])"
      ],
      "execution_count": null,
      "outputs": []
    },
    {
      "cell_type": "code",
      "metadata": {
        "id": "NrnEnSILp4FD"
      },
      "source": [
        "# Fitting the ANN to the Training set\r\n",
        "classifier.fit(X_train, y_train, batch_size = 5, epochs = 100)"
      ],
      "execution_count": null,
      "outputs": []
    },
    {
      "cell_type": "code",
      "metadata": {
        "id": "9zKhuMHDqveQ"
      },
      "source": [
        "from sklearn.metrics import confusion_matrix\r\n",
        "\r\n",
        "# https://gist.github.com/RyanAkilos/3808c17f79e77c4117de35aa68447045"
      ],
      "execution_count": null,
      "outputs": []
    },
    {
      "cell_type": "code",
      "metadata": {
        "id": "MeR0iOdQqbmW"
      },
      "source": [
        "confusion_matrix(y_true, y_pred)"
      ],
      "execution_count": null,
      "outputs": []
    },
    {
      "cell_type": "markdown",
      "metadata": {
        "id": "1T7Tgb90vEy6"
      },
      "source": [
        "### Regression"
      ]
    },
    {
      "cell_type": "code",
      "metadata": {
        "id": "pBqhn5kLvDhL"
      },
      "source": [
        "# Importing the Keras libraries and packages to use Tensor Flow Backend\r\n",
        "import keras\r\n",
        "from keras.models import Sequential #For Initializing ANN\r\n",
        "from keras.layers import Dense #For Layers of ANN\r\n",
        "# Initializing the ANN with sequence of layers (Could use a Graph)\r\n",
        "#Classifier Model\r\n",
        "classifier = Sequential()\r\n",
        "# Adding the input layer and the first hidden layer \r\n",
        "classifier.add(Dense(units = 14, kernel_initializer = 'uniform', activation = 'relu', input_dim = 27))\r\n",
        "# Adding the hidden layers\r\n",
        "classifier.add(Dense(units = 14, kernel_initializer = 'uniform', activation = 'relu'))\r\n",
        "classifier.add(Dense(units = 14, kernel_initializer = 'uniform', activation = 'relu'))\r\n",
        "# Adding the output layer\r\n",
        "'''Regression'''\r\n",
        "classifier.add(Dense(units = 1, kernel_initializer = 'uniform', activation = 'linear'))\r\n",
        "\r\n",
        "classifier.compile(optimizer = 'adam', loss = 'binary_crossentropy', metrics = ['accuracy'])"
      ],
      "execution_count": null,
      "outputs": []
    },
    {
      "cell_type": "code",
      "metadata": {
        "id": "WlxVElBdvrgo"
      },
      "source": [
        "# Fitting the ANN to the Training set\r\n",
        "classifier.fit(X_train, y_train, batch_size = 5, epochs = 500)"
      ],
      "execution_count": null,
      "outputs": []
    },
    {
      "cell_type": "markdown",
      "metadata": {
        "id": "Gl0y3JlxnoRY"
      },
      "source": [
        "## Feature Evaluation and Dimensionality Reduction\r\n"
      ]
    },
    {
      "cell_type": "code",
      "metadata": {
        "id": "ksPsbnWqnnfT"
      },
      "source": [
        "#Evaluate statistical significance with Backward Elimination\r\n",
        "import statsmodels.formula.api as sm\r\n",
        "import statsmodels.api as sm\r\n",
        "\r\n",
        "\r\n",
        "#517 rows in X\r\n",
        "X = np.append(arr = np.ones((517, 1)).astype(int), values = X, axis = 1)\r\n",
        "\r\n",
        "\r\n",
        "#Select all Features\r\n",
        "X_opt = X[:, [0, 1, 2, 3, 4, 5, 6, 7, 8, 9, 10, 11, 12, 13, 14, 15, 16, 17, 18, 19, 20, 21, 22, 23, 24, 25, 26, 27]]\r\n",
        "regressor_OLS = sm.OLS(endog = y, exog = X_opt).fit()\r\n",
        "regressor_OLS.summary()\r\n",
        "#View results and remove the highest P-value from X-Opt and repeat"
      ],
      "execution_count": null,
      "outputs": []
    },
    {
      "cell_type": "code",
      "metadata": {
        "id": "9ELZUVWFpDeI"
      },
      "source": [
        "def backwardElimination(x, sl):\r\n",
        "        numVars = len(x[0])\r\n",
        "        for i in range(0, numVars):\r\n",
        "            classifier_OLS = sm.OLS(y, x).fit()\r\n",
        "            maxVar = max(classifier_OLS.pvalues).astype(float)\r\n",
        "            if maxVar > sl:\r\n",
        "              for j in range(0, numVars - i):\r\n",
        "                  if (classifier_OLS.pvalues[j].astype(float) == maxVar):\r\n",
        "                    x = np.delete(x, j, 1)\r\n",
        "        return x\r\n",
        "#Significance Level = 15%\r\n"
      ],
      "execution_count": null,
      "outputs": []
    },
    {
      "cell_type": "code",
      "metadata": {
        "id": "72phwD_IuJ2n"
      },
      "source": [
        "SL = 0.15\r\n",
        "X_opt = X[:, [0, 1, 2, 3, 4, 5, 6, 7, 8, 9, 10, 11, 12, 13, 14, 15, 16, 17, 18, 19, 20, 21, 22, 23, 24, 25, 26, 27]]\r\n",
        "X_Modeled = backwardElimination(X_opt, SL)\r\n",
        "regressor_OLS = sm.OLS(endog = y, exog = X_Modeled).fit()\r\n",
        "regressor_OLS.summary()"
      ],
      "execution_count": null,
      "outputs": []
    },
    {
      "cell_type": "markdown",
      "metadata": {
        "id": "wYNwEpAXv1yO"
      },
      "source": [
        "## PCA"
      ]
    },
    {
      "cell_type": "code",
      "metadata": {
        "id": "Gao6atMOwG8O"
      },
      "source": [
        "X_train_C = X_train\r\n",
        "X_test_C = X_test"
      ],
      "execution_count": null,
      "outputs": []
    },
    {
      "cell_type": "code",
      "metadata": {
        "id": "D65vffYZuao8"
      },
      "source": [
        "#PCA Dimensionality Reduction\r\n",
        "from sklearn.decomposition import PCA\r\n",
        "\r\n",
        "\r\n",
        "pca = PCA(n_components = None) #Replace none with 2\r\n",
        "X_train_C = pca.fit_transform(X_train_C)\r\n",
        "X_test_C = pca.transform(X_test_C)\r\n",
        "\r\n",
        "explained_variance = pca.explained_variance_ratio_"
      ],
      "execution_count": null,
      "outputs": []
    },
    {
      "cell_type": "code",
      "metadata": {
        "id": "Ta_W4_Upv8hz"
      },
      "source": [
        "explained_variance"
      ],
      "execution_count": null,
      "outputs": []
    },
    {
      "cell_type": "markdown",
      "metadata": {
        "id": "TMPxt2KBxITK"
      },
      "source": [
        "## Dropout"
      ]
    },
    {
      "cell_type": "code",
      "metadata": {
        "id": "KKqnXqDIykEK"
      },
      "source": [
        "# Importing the Keras libraries and packages to use Tensor Flow Backend\r\n",
        "import keras\r\n",
        "from keras.models import Sequential #For Initializing ANN\r\n",
        "from keras.layers import Dense #For Layers of ANN\r\n",
        "# Initializing the ANN with sequence of layers (Could use a Graph)\r\n",
        "#Classifier Model\r\n",
        "classifier = Sequential()\r\n",
        "# Adding the input layer and the first hidden layer \r\n",
        "classifier.add(Dense(units = 14, kernel_initializer = 'uniform', activation = 'relu', input_dim = 27))\r\n",
        "# Adding the hidden layers\r\n",
        "classifier.add(Dense(units = 14, kernel_initializer = 'uniform', activation = 'relu'))\r\n",
        "classifier.add(Dense(units = 14, kernel_initializer = 'uniform', activation = 'relu'))\r\n",
        "# Adding the output layer\r\n",
        "'''Regression'''\r\n",
        "classifier.add(Dense(units = 1, kernel_initializer = 'uniform', activation = 'linear'))\r\n",
        "\r\n",
        "classifier.compile(optimizer = 'adam', loss = 'binary_crossentropy', metrics = ['accuracy'])"
      ],
      "execution_count": null,
      "outputs": []
    },
    {
      "cell_type": "code",
      "metadata": {
        "id": "L-lEdsLSwRoN"
      },
      "source": [
        "#BUILD NEW MODEL\r\n",
        "#Using Modifications\r\n",
        "from keras.layers import Dropout #For Layers of ANN\r\n",
        "\r\n",
        "classifier = Sequential()\r\n",
        "classifier.add(Dense(units = 17, kernel_initializer = 'uniform', activation = 'relu', input_dim = 27))\r\n",
        "classifier.add(Dropout(rate=0.1))\r\n",
        "classifier.add(Dense(units = 17, kernel_initializer = 'uniform', activation = 'relu'))\r\n",
        "classifier.add(Dropout(rate=0.1))\r\n",
        "classifier.add(Dense(units = 17, kernel_initializer = 'uniform', activation = 'relu'))\r\n",
        "classifier.add(Dropout(rate=0.1))\r\n",
        "classifier.add(Dense(units = 7, kernel_initializer = 'uniform', activation = 'sigmoid'))\r\n",
        "\r\n",
        "\r\n",
        "classifier.compile(optimizer = 'adam', loss = 'binary_crossentropy', metrics = ['accuracy'])\r\n",
        "classifier.fit(X_train, y_train, batch_size = 25, epochs = 100)\r\n",
        "\r\n",
        "\r\n"
      ],
      "execution_count": null,
      "outputs": []
    },
    {
      "cell_type": "code",
      "metadata": {
        "id": "7qywjmHAxWjM"
      },
      "source": [
        "from sklearn.metrics import confusion_matrix\r\n",
        "y_pred = classifier.predict(X_test)\r\n",
        "y_pred = (y_pred > 0.5)\r\n",
        "cm = confusion_matrix(y_test, y_pred)"
      ],
      "execution_count": null,
      "outputs": []
    },
    {
      "cell_type": "markdown",
      "metadata": {
        "id": "GYPiXPyo0s9O"
      },
      "source": [
        "## Paramters Tuning"
      ]
    },
    {
      "cell_type": "code",
      "metadata": {
        "id": "2G2DIRQW3Xed"
      },
      "source": [
        "from sklearn.model_selection import GridSearchCV\r\n",
        "from keras.wrappers.scikit_learn import KerasClassifier"
      ],
      "execution_count": null,
      "outputs": []
    },
    {
      "cell_type": "code",
      "metadata": {
        "id": "qQPL2MVj0rfn"
      },
      "source": [
        "'''CLASSIFICATION'''\r\n",
        "#Avoid: ValueError: Classification metrics can’t handle a mix of continuous-multioutput and binary targets\r\n",
        "dataset = pd.read_csv ('/content/forestfires.csv')\r\n",
        "y = dataset.iloc[:, 12].values # dependent variable\r\n",
        "for i in range(0, len(y)):\r\n",
        "   y[i] = (y[i]*2.47)\r\n",
        "   if y[i] < 100.0:\r\n",
        "      y[i] = 0\r\n",
        "   else:\r\n",
        "      y[i] = 1\r\n",
        "y_Corrected = y.astype(int)\r\n",
        "# Splitting the dataset into the Training set and Test set\r\n",
        "from sklearn.model_selection import train_test_split\r\n",
        "X_train, X_test, y_train, y_test = train_test_split(X_Modeled, y_Corrected, test_size = 0.2)\r\n",
        "from sklearn.preprocessing import StandardScaler\r\n",
        "sc = StandardScaler()\r\n",
        "X_train = sc.fit_transform(X_train)\r\n",
        "X_test = sc.transform(X_test)\r\n",
        "\r\n",
        "\r\n",
        "#Tuning For Epochs, Batch Size, Optimizer\r\n",
        "def build_classifier(optimizer):\r\n",
        "      classifier = Sequential()\r\n",
        "      classifier.add(Dense(units = 17, kernel_initializer = 'uniform', activation = 'relu', input_dim = 27))\r\n",
        "      classifier.add(Dense(units = 17, kernel_initializer = 'uniform', activation = 'relu'))\r\n",
        "      classifier.add(Dense(units = 17, kernel_initializer = 'uniform', activation = 'relu'))\r\n",
        "      classifier.add(Dense(units = 7, kernel_initializer = 'uniform', activation = 'sigmoid'))\r\n",
        "      classifier.compile(optimizer = 'adam', loss = 'binary_crossentropy', metrics = ['accuracy'])\r\n",
        "      return classifier\r\n",
        "\r\n",
        "\r\n",
        "classifier = KerasClassifier(build_fn = build_classifier)\r\n",
        "parameters = {'batch_size': [1, 16, 32], 'epochs': [100, 500], 'optimizer': ['adam', 'rmsprop']}\r\n",
        "grid_search = GridSearchCV(estimator = classifier, param_grid = parameters, scoring = 'accuracy', cv = 10)\r\n",
        "grid_search = grid_search.fit(X_train, y_train)\r\n",
        "best_parameters = grid_search.best_params_\r\n",
        "best_accuracy = grid_search.best_score_\r\n",
        "print('Best Parameters: %s' % best_parameters)\r\n",
        "print('Best Accuracy: %s' % best_accuracy)\r\n",
        "\r\n",
        "\r\n",
        "\r\n",
        "\r\n",
        "#optimizer = ['SGD', 'RMSprop', 'Adagrad', 'Adadelta', 'Adam', 'Adamax', 'Nadam']\r\n",
        "#epochs = [10, 50, 100]\r\n",
        "\r\n",
        "#param_grid = dict(epochs=epochs, optimizer=optimizer)\r\n",
        "\r\n",
        "#Kmodel = KerasClassifier(build_fn=build_classifier, verbose=1)\r\n",
        "#grid = GridSearchCV(estimator=Kmodel, param_grid=param_grid, scoring='accuracy', n_jobs=-1, refit='boolean')\r\n",
        "#grid_result = grid.fit(X_train, Y_train)"
      ],
      "execution_count": null,
      "outputs": []
    },
    {
      "cell_type": "code",
      "metadata": {
        "id": "rQWrdZMA1S0n"
      },
      "source": [
        ""
      ],
      "execution_count": null,
      "outputs": []
    }
  ]
}